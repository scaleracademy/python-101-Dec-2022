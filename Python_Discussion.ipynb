{
  "nbformat": 4,
  "nbformat_minor": 0,
  "metadata": {
    "colab": {
      "provenance": []
    },
    "kernelspec": {
      "name": "python3",
      "display_name": "Python 3"
    },
    "language_info": {
      "name": "python"
    }
  },
  "cells": [
    {
      "cell_type": "code",
      "execution_count": null,
      "metadata": {
        "colab": {
          "base_uri": "https://localhost:8080/"
        },
        "id": "45b9Vickg_km",
        "outputId": "4afd8bb7-8d1b-4609-fcdb-264848007605"
      },
      "outputs": [
        {
          "output_type": "execute_result",
          "data": {
            "text/plain": [
              "4.2"
            ]
          },
          "metadata": {},
          "execution_count": 1
        }
      ],
      "source": [
        "1.4 + 1.6 + 1.2"
      ]
    },
    {
      "cell_type": "code",
      "source": [
        "1.4 + 1.2 + 1.6"
      ],
      "metadata": {
        "colab": {
          "base_uri": "https://localhost:8080/"
        },
        "id": "BxNgwA6kiOdx",
        "outputId": "284af3c6-24ba-47d9-93e2-e22eb74474e7"
      },
      "execution_count": null,
      "outputs": [
        {
          "output_type": "execute_result",
          "data": {
            "text/plain": [
              "4.199999999999999"
            ]
          },
          "metadata": {},
          "execution_count": 2
        }
      ]
    },
    {
      "cell_type": "code",
      "source": [
        "1.4 + 1.2"
      ],
      "metadata": {
        "colab": {
          "base_uri": "https://localhost:8080/"
        },
        "id": "oKH9nrOyiWLt",
        "outputId": "421a2230-fc76-4b6d-e72c-8124506ad8c6"
      },
      "execution_count": null,
      "outputs": [
        {
          "output_type": "execute_result",
          "data": {
            "text/plain": [
              "2.5999999999999996"
            ]
          },
          "metadata": {},
          "execution_count": 3
        }
      ]
    },
    {
      "cell_type": "code",
      "source": [],
      "metadata": {
        "colab": {
          "base_uri": "https://localhost:8080/",
          "height": 167
        },
        "id": "29Abkz4iioc8",
        "outputId": "8a3923ef-5339-4583-aebd-48654feb0596"
      },
      "execution_count": null,
      "outputs": [
        {
          "output_type": "error",
          "ename": "TypeError",
          "evalue": "ignored",
          "traceback": [
            "\u001b[0;31m---------------------------------------------------------------------------\u001b[0m",
            "\u001b[0;31mTypeError\u001b[0m                                 Traceback (most recent call last)",
            "\u001b[0;32m<ipython-input-4-a80ffc6daf3e>\u001b[0m in \u001b[0;36m<module>\u001b[0;34m\u001b[0m\n\u001b[0;32m----> 1\u001b[0;31m \u001b[0mbin\u001b[0m\u001b[0;34m(\u001b[0m\u001b[0;36m2.6\u001b[0m\u001b[0;34m)\u001b[0m\u001b[0;34m\u001b[0m\u001b[0;34m\u001b[0m\u001b[0m\n\u001b[0m",
            "\u001b[0;31mTypeError\u001b[0m: 'float' object cannot be interpreted as an integer"
          ]
        }
      ]
    },
    {
      "cell_type": "code",
      "source": [],
      "metadata": {
        "id": "80AUtwyfk8yB"
      },
      "execution_count": null,
      "outputs": []
    },
    {
      "cell_type": "code",
      "source": [
        "board = [['_'] * 3] * 3"
      ],
      "metadata": {
        "id": "L5MGdo5UlGy-"
      },
      "execution_count": null,
      "outputs": []
    },
    {
      "cell_type": "code",
      "source": [
        "board"
      ],
      "metadata": {
        "colab": {
          "base_uri": "https://localhost:8080/"
        },
        "id": "pNGwU9dtlRAL",
        "outputId": "cfbac082-5be8-42ac-d95a-121f13792a24"
      },
      "execution_count": null,
      "outputs": [
        {
          "output_type": "execute_result",
          "data": {
            "text/plain": [
              "[['_', '_', '_'], ['_', '_', '_'], ['_', '_', '_']]"
            ]
          },
          "metadata": {},
          "execution_count": 10
        }
      ]
    },
    {
      "cell_type": "code",
      "source": [
        "board[2][1] = 'O'"
      ],
      "metadata": {
        "id": "dDwApsoKlWKO"
      },
      "execution_count": null,
      "outputs": []
    },
    {
      "cell_type": "code",
      "source": [
        "board"
      ],
      "metadata": {
        "colab": {
          "base_uri": "https://localhost:8080/"
        },
        "id": "IZtjvGY4ld46",
        "outputId": "e1737b3f-6be6-4c76-f41a-2d1c04e8fa34"
      },
      "execution_count": null,
      "outputs": [
        {
          "output_type": "execute_result",
          "data": {
            "text/plain": [
              "[['_', 'O', '_'], ['_', 'O', '_'], ['_', 'O', '_']]"
            ]
          },
          "metadata": {},
          "execution_count": 12
        }
      ]
    },
    {
      "cell_type": "code",
      "source": [
        "row = ['_'] * 3"
      ],
      "metadata": {
        "id": "Z8MmaxVcle4r"
      },
      "execution_count": null,
      "outputs": []
    },
    {
      "cell_type": "code",
      "source": [
        "row"
      ],
      "metadata": {
        "colab": {
          "base_uri": "https://localhost:8080/"
        },
        "id": "Z7Vbj2Y8l3ER",
        "outputId": "713e0a78-6717-428c-c381-b2de09d9d631"
      },
      "execution_count": null,
      "outputs": [
        {
          "output_type": "execute_result",
          "data": {
            "text/plain": [
              "['_', '_', '_']"
            ]
          },
          "metadata": {},
          "execution_count": 14
        }
      ]
    },
    {
      "cell_type": "code",
      "source": [
        "board = [row, row, row]"
      ],
      "metadata": {
        "id": "I8FwO4Uql31y"
      },
      "execution_count": null,
      "outputs": []
    },
    {
      "cell_type": "code",
      "source": [
        "print(id(board[0]))\n",
        "print(id(board[1]))\n",
        "print(id(board[2]))\n"
      ],
      "metadata": {
        "colab": {
          "base_uri": "https://localhost:8080/"
        },
        "id": "tz5njzzwl7Mv",
        "outputId": "ba800035-6641-44d6-8dc4-0c45fc4f2d77"
      },
      "execution_count": null,
      "outputs": [
        {
          "output_type": "stream",
          "name": "stdout",
          "text": [
            "140599055016320\n",
            "140599055016320\n",
            "140599055016320\n"
          ]
        }
      ]
    },
    {
      "cell_type": "code",
      "source": [
        "a = [1, 2, 3, 4]\n",
        "b = a\n",
        "\n",
        "a[0] = 100\n",
        "\n",
        "print(a)\n",
        "print(b)"
      ],
      "metadata": {
        "colab": {
          "base_uri": "https://localhost:8080/"
        },
        "id": "I93kXJuPmI8h",
        "outputId": "426af10d-e943-4fed-dbee-ec3080c19a2f"
      },
      "execution_count": null,
      "outputs": [
        {
          "output_type": "stream",
          "name": "stdout",
          "text": [
            "[100, 2, 3, 4]\n",
            "[100, 2, 3, 4]\n"
          ]
        }
      ]
    },
    {
      "cell_type": "code",
      "source": [
        "a = ['_'] * 3"
      ],
      "metadata": {
        "id": "5E91LvvTmXcc"
      },
      "execution_count": null,
      "outputs": []
    },
    {
      "cell_type": "code",
      "source": [
        "a[0] = 'X'"
      ],
      "metadata": {
        "id": "DOtPYKkZmb8F"
      },
      "execution_count": null,
      "outputs": []
    },
    {
      "cell_type": "code",
      "source": [],
      "metadata": {
        "id": "O8Pc_Hl7m0vi"
      },
      "execution_count": null,
      "outputs": []
    },
    {
      "cell_type": "code",
      "source": [
        "a = {\n",
        "    5: \"ruby\",\n",
        "     5.0: \"python\",\n",
        "     5 + 0j: \"scaler\"\n",
        "}"
      ],
      "metadata": {
        "id": "FM7iBVftm1Dd"
      },
      "execution_count": null,
      "outputs": []
    },
    {
      "cell_type": "code",
      "source": [
        "print(len(a))"
      ],
      "metadata": {
        "colab": {
          "base_uri": "https://localhost:8080/"
        },
        "id": "g0rrYGZ7m7aD",
        "outputId": "79450d34-c179-48f2-c0d8-0a35ff18caf1"
      },
      "execution_count": null,
      "outputs": [
        {
          "output_type": "stream",
          "name": "stdout",
          "text": [
            "1\n"
          ]
        }
      ]
    },
    {
      "cell_type": "code",
      "source": [
        "hash(5 + 0j)"
      ],
      "metadata": {
        "colab": {
          "base_uri": "https://localhost:8080/"
        },
        "id": "b9Qy6uOonDbe",
        "outputId": "0f325818-f7c6-461b-afec-8dfec349298a"
      },
      "execution_count": null,
      "outputs": [
        {
          "output_type": "execute_result",
          "data": {
            "text/plain": [
              "5"
            ]
          },
          "metadata": {},
          "execution_count": 25
        }
      ]
    },
    {
      "cell_type": "code",
      "source": [
        "a"
      ],
      "metadata": {
        "colab": {
          "base_uri": "https://localhost:8080/"
        },
        "id": "8pXS3DFPnTXc",
        "outputId": "04acd8d8-59cb-4eb4-c49e-3758f8d2ec02"
      },
      "execution_count": null,
      "outputs": [
        {
          "output_type": "execute_result",
          "data": {
            "text/plain": [
              "{5: 'scaler'}"
            ]
          },
          "metadata": {},
          "execution_count": 26
        }
      ]
    },
    {
      "cell_type": "code",
      "source": [
        "a = {\n",
        "    (1, 2, 3): \"something\"\n",
        "}"
      ],
      "metadata": {
        "id": "ePRVhhGZpVIg"
      },
      "execution_count": null,
      "outputs": []
    },
    {
      "cell_type": "code",
      "source": [
        "hash((1, 2, 3, 4))"
      ],
      "metadata": {
        "colab": {
          "base_uri": "https://localhost:8080/"
        },
        "id": "5IKmgDvZpxyH",
        "outputId": "38fd2eab-4917-4914-9d97-42662c98e08d"
      },
      "execution_count": null,
      "outputs": [
        {
          "output_type": "execute_result",
          "data": {
            "text/plain": [
              "590899387183067792"
            ]
          },
          "metadata": {},
          "execution_count": 29
        }
      ]
    },
    {
      "cell_type": "code",
      "source": [
        "a = {\n",
        "    [1, 2, 3]: \"something\"\n",
        "}"
      ],
      "metadata": {
        "colab": {
          "base_uri": "https://localhost:8080/",
          "height": 203
        },
        "id": "NhosXu_vpfvc",
        "outputId": "b4dbeddc-8d55-4aa0-e209-ce60145b201b"
      },
      "execution_count": null,
      "outputs": [
        {
          "output_type": "error",
          "ename": "TypeError",
          "evalue": "ignored",
          "traceback": [
            "\u001b[0;31m---------------------------------------------------------------------------\u001b[0m",
            "\u001b[0;31mTypeError\u001b[0m                                 Traceback (most recent call last)",
            "\u001b[0;32m<ipython-input-28-7feb2fc6605e>\u001b[0m in \u001b[0;36m<module>\u001b[0;34m\u001b[0m\n\u001b[0;32m----> 1\u001b[0;31m a = {\n\u001b[0m\u001b[1;32m      2\u001b[0m     \u001b[0;34m[\u001b[0m\u001b[0;36m1\u001b[0m\u001b[0;34m,\u001b[0m \u001b[0;36m2\u001b[0m\u001b[0;34m,\u001b[0m \u001b[0;36m3\u001b[0m\u001b[0;34m]\u001b[0m\u001b[0;34m:\u001b[0m \u001b[0;34m\"something\"\u001b[0m\u001b[0;34m\u001b[0m\u001b[0;34m\u001b[0m\u001b[0m\n\u001b[1;32m      3\u001b[0m }\n",
            "\u001b[0;31mTypeError\u001b[0m: unhashable type: 'list'"
          ]
        }
      ]
    },
    {
      "cell_type": "code",
      "source": [],
      "metadata": {
        "id": "uR8nZNdTpjKv"
      },
      "execution_count": null,
      "outputs": []
    },
    {
      "cell_type": "markdown",
      "source": [
        "```\n",
        "Question 1 - \n",
        "1. Take a string as input.\n",
        "2. Convert the string to lower case without using any inbuilt function to do the same.\n",
        "```"
      ],
      "metadata": {
        "id": "BnttgDWIrHUb"
      }
    },
    {
      "cell_type": "code",
      "source": [
        "s = input()\n",
        "res = \"\"\n",
        "\n",
        "for char in s:\n",
        "  if 65 <= ord(char) <= 90:\n",
        "    res += chr(ord(char) + 32)\n",
        "  else:\n",
        "    res += char\n",
        "\n",
        "print(res)"
      ],
      "metadata": {
        "colab": {
          "base_uri": "https://localhost:8080/"
        },
        "id": "41PYs774rI5B",
        "outputId": "07d0f001-88b3-430c-f99b-b21d6ad1740a"
      },
      "execution_count": null,
      "outputs": [
        {
          "output_type": "stream",
          "name": "stdout",
          "text": [
            "knock knock P3nny\n",
            "knock knock p3nny\n"
          ]
        }
      ]
    },
    {
      "cell_type": "code",
      "source": [
        "ord(\"A\")"
      ],
      "metadata": {
        "colab": {
          "base_uri": "https://localhost:8080/"
        },
        "id": "OgIvcl53rvD6",
        "outputId": "019ea3e1-a874-4b7e-a807-00901d4df135"
      },
      "execution_count": null,
      "outputs": [
        {
          "output_type": "execute_result",
          "data": {
            "text/plain": [
              "65"
            ]
          },
          "metadata": {},
          "execution_count": 32
        }
      ]
    },
    {
      "cell_type": "code",
      "source": [
        "ord(\"Z\")"
      ],
      "metadata": {
        "colab": {
          "base_uri": "https://localhost:8080/"
        },
        "id": "em8l8LAhsa11",
        "outputId": "0f53690f-f7d6-4e94-dd33-900bed537cb5"
      },
      "execution_count": null,
      "outputs": [
        {
          "output_type": "execute_result",
          "data": {
            "text/plain": [
              "90"
            ]
          },
          "metadata": {},
          "execution_count": 34
        }
      ]
    },
    {
      "cell_type": "code",
      "source": [
        "ord(\"a\")"
      ],
      "metadata": {
        "colab": {
          "base_uri": "https://localhost:8080/"
        },
        "id": "bewH4ZABrwOz",
        "outputId": "58e3a091-cf5d-45de-812e-135bd22ce0fc"
      },
      "execution_count": null,
      "outputs": [
        {
          "output_type": "execute_result",
          "data": {
            "text/plain": [
              "97"
            ]
          },
          "metadata": {},
          "execution_count": 33
        }
      ]
    },
    {
      "cell_type": "code",
      "source": [],
      "metadata": {
        "id": "MJZbRTd7sGPp"
      },
      "execution_count": null,
      "outputs": []
    },
    {
      "cell_type": "markdown",
      "source": [
        "```\n",
        "Question 2 -\n",
        "How I can I merge two dictionaries in python?\n",
        "\n",
        "d1 = {\"a\": 1, \"b\": 2}\n",
        "d2 = {\"b\": 3, \"c\": 4}\n",
        "\n",
        "result = {\"a\": 1, \"b\": 3, \"c\": 4}\n",
        "```"
      ],
      "metadata": {
        "id": "zm8jOHh3tAg-"
      }
    },
    {
      "cell_type": "code",
      "source": [
        "d1 = {\"a\": 1, \"b\": 2}\n",
        "d2 = {\"b\": 3, \"c\": 4}"
      ],
      "metadata": {
        "id": "y2m5e0y3tBcP"
      },
      "execution_count": null,
      "outputs": []
    },
    {
      "cell_type": "code",
      "source": [
        "{**d1, **d2}"
      ],
      "metadata": {
        "colab": {
          "base_uri": "https://localhost:8080/"
        },
        "id": "Hs8MmIhztILI",
        "outputId": "7d0a3783-c976-40be-a505-ed7e7de03bcd"
      },
      "execution_count": null,
      "outputs": [
        {
          "output_type": "execute_result",
          "data": {
            "text/plain": [
              "{'a': 1, 'b': 3, 'c': 4}"
            ]
          },
          "metadata": {},
          "execution_count": 43
        }
      ]
    },
    {
      "cell_type": "code",
      "source": [
        "a = 5\n",
        "b = 9\n",
        "\n",
        "a, b = b, a"
      ],
      "metadata": {
        "id": "Gx-Yv-yytMMo"
      },
      "execution_count": null,
      "outputs": []
    },
    {
      "cell_type": "code",
      "source": [
        "x = (1, 2, 3, 4)"
      ],
      "metadata": {
        "id": "w9rHmE6itqXK"
      },
      "execution_count": null,
      "outputs": []
    },
    {
      "cell_type": "code",
      "source": [
        "a, b, c, d = x"
      ],
      "metadata": {
        "id": "3DXrFixBtw79"
      },
      "execution_count": null,
      "outputs": []
    },
    {
      "cell_type": "code",
      "source": [
        "a"
      ],
      "metadata": {
        "colab": {
          "base_uri": "https://localhost:8080/"
        },
        "id": "Q_awEFRRt7-a",
        "outputId": "c84631b4-f40b-4a20-a0c8-9cf9c6945283"
      },
      "execution_count": null,
      "outputs": [
        {
          "output_type": "execute_result",
          "data": {
            "text/plain": [
              "1"
            ]
          },
          "metadata": {},
          "execution_count": 48
        }
      ]
    },
    {
      "cell_type": "code",
      "source": [
        "b"
      ],
      "metadata": {
        "colab": {
          "base_uri": "https://localhost:8080/"
        },
        "id": "jzu2VZJ_t8gy",
        "outputId": "648324b4-008b-4362-caeb-0b08f6cec326"
      },
      "execution_count": null,
      "outputs": [
        {
          "output_type": "execute_result",
          "data": {
            "text/plain": [
              "2"
            ]
          },
          "metadata": {},
          "execution_count": 49
        }
      ]
    },
    {
      "cell_type": "code",
      "source": [
        "def foo(a, b, c):\n",
        "  print(a)\n",
        "  print(b)\n",
        "  print(c)"
      ],
      "metadata": {
        "id": "T3q6PVTyt81Z"
      },
      "execution_count": null,
      "outputs": []
    },
    {
      "cell_type": "code",
      "source": [
        "foo(1, 2, 3)"
      ],
      "metadata": {
        "colab": {
          "base_uri": "https://localhost:8080/"
        },
        "id": "hCacWaFwuGGi",
        "outputId": "bca17ade-ae44-4f80-9f79-6ddbab52247d"
      },
      "execution_count": null,
      "outputs": [
        {
          "output_type": "stream",
          "name": "stdout",
          "text": [
            "1\n",
            "2\n",
            "3\n"
          ]
        }
      ]
    },
    {
      "cell_type": "code",
      "source": [
        "a = [1, 2, 3]\n",
        "\n",
        "foo(*a)"
      ],
      "metadata": {
        "colab": {
          "base_uri": "https://localhost:8080/"
        },
        "id": "f1RCwf7juHMm",
        "outputId": "2b15c480-af1c-40fe-cf08-95fe70c5a060"
      },
      "execution_count": null,
      "outputs": [
        {
          "output_type": "stream",
          "name": "stdout",
          "text": [
            "1\n",
            "2\n",
            "3\n"
          ]
        }
      ]
    },
    {
      "cell_type": "code",
      "source": [
        "a = {\"a\": 1, \"b\": 2, \"c\": 3}\n",
        "\n",
        "foo(**a)"
      ],
      "metadata": {
        "colab": {
          "base_uri": "https://localhost:8080/"
        },
        "id": "C3g3qAnWuUuo",
        "outputId": "e9c4052c-8e11-42ab-b2a0-3f545d44b648"
      },
      "execution_count": null,
      "outputs": [
        {
          "output_type": "stream",
          "name": "stdout",
          "text": [
            "1\n",
            "2\n",
            "3\n"
          ]
        }
      ]
    },
    {
      "cell_type": "code",
      "source": [
        "d1 = {\"a\": 1, \"b\": 2}\n",
        "d2 = {\"b\": 3, \"c\": 4}\n",
        "\n",
        "{\n",
        "    **d2,\n",
        "    **d1,\n",
        "}"
      ],
      "metadata": {
        "colab": {
          "base_uri": "https://localhost:8080/"
        },
        "id": "6vCeqB_Oum5z",
        "outputId": "0ba93f52-c56f-4801-801f-2d00eda54a68"
      },
      "execution_count": null,
      "outputs": [
        {
          "output_type": "execute_result",
          "data": {
            "text/plain": [
              "{'b': 2, 'c': 4, 'a': 1}"
            ]
          },
          "metadata": {},
          "execution_count": 55
        }
      ]
    },
    {
      "cell_type": "code",
      "source": [],
      "metadata": {
        "id": "U05_CNW5vCdL"
      },
      "execution_count": null,
      "outputs": []
    },
    {
      "cell_type": "markdown",
      "source": [
        "```\n",
        "Question 3 - \n",
        "Can you tell the output of the following python code?\n",
        "\n",
        "a = -(100 % 30) // 3\n",
        "print(a)\n",
        "```"
      ],
      "metadata": {
        "id": "MBJSgkX_vKU7"
      }
    },
    {
      "cell_type": "code",
      "source": [
        "a = -(100 % 30) // 3\n",
        "print(a)"
      ],
      "metadata": {
        "colab": {
          "base_uri": "https://localhost:8080/"
        },
        "id": "gh9lNU58weAZ",
        "outputId": "0d281ae9-fa1f-417d-d182-5469f7704ed0"
      },
      "execution_count": null,
      "outputs": [
        {
          "output_type": "stream",
          "name": "stdout",
          "text": [
            "-4\n"
          ]
        }
      ]
    },
    {
      "cell_type": "markdown",
      "source": [
        "#### Formula for modulo operator\n",
        "\n",
        "```\n",
        "a % b = a - (b * (a // b))\n",
        "```"
      ],
      "metadata": {
        "id": "0Mg5FpmfvTbf"
      }
    },
    {
      "cell_type": "code",
      "source": [
        "-11 % 2"
      ],
      "metadata": {
        "colab": {
          "base_uri": "https://localhost:8080/"
        },
        "id": "lPGvsZZbvLGl",
        "outputId": "66b5a8f8-c610-4bfc-ebfa-dfdf7149cebe"
      },
      "execution_count": null,
      "outputs": [
        {
          "output_type": "execute_result",
          "data": {
            "text/plain": [
              "1"
            ]
          },
          "metadata": {},
          "execution_count": 56
        }
      ]
    },
    {
      "cell_type": "code",
      "source": [
        "5 // 2"
      ],
      "metadata": {
        "colab": {
          "base_uri": "https://localhost:8080/"
        },
        "id": "CSB3_o_QvqjZ",
        "outputId": "128556be-a088-4a84-bc68-bdc5e0d179f1"
      },
      "execution_count": null,
      "outputs": [
        {
          "output_type": "execute_result",
          "data": {
            "text/plain": [
              "2"
            ]
          },
          "metadata": {},
          "execution_count": 58
        }
      ]
    },
    {
      "cell_type": "code",
      "source": [],
      "metadata": {
        "id": "59GJghFkwADt"
      },
      "execution_count": null,
      "outputs": []
    },
    {
      "cell_type": "markdown",
      "source": [
        "```\n",
        "Question 4 -\n",
        "Write a function to flatten a nested list in python.\n",
        "\n",
        "INPUT - [1,2,3,[4,5],[[[[[5,6,7],[8,9,0]]]]]]\n",
        "OUTPUT - [1,2,3,4,5,5,6,7,8,9,0]\n",
        "```"
      ],
      "metadata": {
        "id": "-ihY6-uwxAL_"
      }
    },
    {
      "cell_type": "code",
      "source": [
        "def flatten(arr):\n",
        "  res = []\n",
        "  for x in arr:\n",
        "    if isinstance(x, list):\n",
        "      res += flatten(x)\n",
        "    else:\n",
        "      res.append(x)\n",
        "  return res"
      ],
      "metadata": {
        "id": "iQE4-yCnxA9s"
      },
      "execution_count": null,
      "outputs": []
    },
    {
      "cell_type": "code",
      "source": [
        "flatten([1,2,3,[4,5],[[[[[5,6,7],[8,9,0]]]]]])"
      ],
      "metadata": {
        "colab": {
          "base_uri": "https://localhost:8080/"
        },
        "id": "HkMl8RFoyFAZ",
        "outputId": "6fbc30a7-e42b-4e8c-e7f9-9938f79a190f"
      },
      "execution_count": null,
      "outputs": [
        {
          "output_type": "execute_result",
          "data": {
            "text/plain": [
              "[1, 2, 3, 4, 5, 5, 6, 7, 8, 9, 0]"
            ]
          },
          "metadata": {},
          "execution_count": 61
        }
      ]
    },
    {
      "cell_type": "code",
      "source": [],
      "metadata": {
        "id": "DMvhkc_byHHt"
      },
      "execution_count": null,
      "outputs": []
    },
    {
      "cell_type": "markdown",
      "source": [
        "```\n",
        "Question 5 -\n",
        "Can you shed some light on whether the following python code is correct or not?\n",
        "\n",
        "def foo(a, b = 6, c, d):\n",
        "    return a + b + c + d\n",
        "```"
      ],
      "metadata": {
        "id": "JszN-vZNzODm"
      }
    },
    {
      "cell_type": "code",
      "source": [
        "def foo(a, c, d, b = 6):\n",
        "    return a + b + c + d"
      ],
      "metadata": {
        "id": "ZHLmjIjvzQbI"
      },
      "execution_count": null,
      "outputs": []
    },
    {
      "cell_type": "code",
      "source": [
        "foo(1, 1, 1)"
      ],
      "metadata": {
        "colab": {
          "base_uri": "https://localhost:8080/"
        },
        "id": "1V36gRtU1ctU",
        "outputId": "8aa2eb76-784d-48f8-da17-1b724b25bd07"
      },
      "execution_count": null,
      "outputs": [
        {
          "output_type": "execute_result",
          "data": {
            "text/plain": [
              "9"
            ]
          },
          "metadata": {},
          "execution_count": 66
        }
      ]
    },
    {
      "cell_type": "code",
      "source": [
        "# a -> required positional formal argument\n",
        "# b -> default positional\n",
        "# args -> packed extra positional argument\n",
        "# c -> required keyword-only formal argument\n",
        "# d -> default keyword-only\n",
        "# kwargs -> packed extra keyworded arguments\n",
        "def foo(a, b = 6, *args, c, d = 10, **kwargs):\n",
        "  print(\"a\", \"=>\", a)\n",
        "  print(\"b\", \"=>\", b)\n",
        "  print(\"args\", \"=>\", args)\n",
        "  print(\"c\", \"=>\", c)\n",
        "  print(\"d\", \"=>\", d)\n",
        "  print(\"kwargs\", \"=>\", kwargs)"
      ],
      "metadata": {
        "id": "23RbeEGtzxaa"
      },
      "execution_count": null,
      "outputs": []
    },
    {
      "cell_type": "code",
      "source": [
        "foo(100, 200, 300, 400, 500, c = 10, d = 90, name = \"jatin\")"
      ],
      "metadata": {
        "colab": {
          "base_uri": "https://localhost:8080/"
        },
        "id": "L5v1Ruzj0-oR",
        "outputId": "30d14c09-e189-422f-ca92-76122cd7d253"
      },
      "execution_count": null,
      "outputs": [
        {
          "output_type": "stream",
          "name": "stdout",
          "text": [
            "a => 100\n",
            "b => 200\n",
            "args => (300, 400, 500)\n",
            "c => 10\n",
            "d => 90\n",
            "kwargs => {'name': 'jatin'}\n"
          ]
        }
      ]
    },
    {
      "cell_type": "markdown",
      "source": [
        "Libraries\n",
        "1. Web Backend -> Flask, FastAPI, Django\n",
        "2. ORMs -> SQLAlchemy\n",
        "3. Crawling or Scraping -> Scrapy, BeuatifulSoup\n",
        "4. Data -> Numpy, pandas\n",
        "5. Common -> requests, abc"
      ],
      "metadata": {
        "id": "5JDLq7JS4JAX"
      }
    },
    {
      "cell_type": "markdown",
      "source": [
        "```\n",
        "Question 6 - \n",
        "1. Take a string as input.\n",
        "2. Create a dictionary acc to the following criteria - \n",
        "- There will be one key value pair for each unique character - \n",
        "- Key will be character and value will be the count of character inside the list\n",
        "\n",
        "INPUT - \"rrsssstttt\"\n",
        "OUTPUT -\n",
        "{\n",
        "    \"r\": 2,\n",
        "    \"s\": 4,\n",
        "    \"t\": 4\n",
        "}\n",
        "```"
      ],
      "metadata": {
        "id": "3nLpwP4599Iq"
      }
    },
    {
      "cell_type": "code",
      "source": [
        "s = input()\n",
        "frequency_map = {}\n",
        "\n",
        "for char in s:\n",
        "  frequency_map[char] = frequency_map.get(char, 0) + 1"
      ],
      "metadata": {
        "colab": {
          "base_uri": "https://localhost:8080/"
        },
        "id": "5NQHMuAI5Ee2",
        "outputId": "7f5e5804-afeb-4450-a859-e40e4438a92a"
      },
      "execution_count": null,
      "outputs": [
        {
          "name": "stdout",
          "output_type": "stream",
          "text": [
            "rrsssstttt\n"
          ]
        }
      ]
    },
    {
      "cell_type": "code",
      "source": [
        "frequency_map"
      ],
      "metadata": {
        "colab": {
          "base_uri": "https://localhost:8080/"
        },
        "id": "vMYmoeTW-x2T",
        "outputId": "067f0e71-5ad3-49db-cac2-ea905be26205"
      },
      "execution_count": null,
      "outputs": [
        {
          "output_type": "execute_result",
          "data": {
            "text/plain": [
              "{'r': 2, 's': 4, 't': 4}"
            ]
          },
          "metadata": {},
          "execution_count": 73
        }
      ]
    },
    {
      "cell_type": "code",
      "source": [],
      "metadata": {
        "id": "n4ky46nI-0ax"
      },
      "execution_count": null,
      "outputs": []
    },
    {
      "cell_type": "markdown",
      "source": [
        "```\n",
        "Question 7 - \n",
        "Take a string as input.\n",
        "Print the number of unique characters present in that string.\n",
        "\n",
        "abcccdd -> 4\n",
        "```\n",
        "\n",
        "```\n",
        "Question 8 - \n",
        "1. You will receive a string as input.\n",
        "2. Ascertain whethet that string contains a binary number or not.\n",
        "\n",
        "\"0011010101ab\" - \"Not Binary!\"\n",
        "\"01010101010101\" - \"Binary!\"\n",
        "```\n",
        "\n",
        "```\n",
        "Question 9 - \n",
        "Print the multiplication table of all numbers from 1-N (user input)\n",
        "using one line of python.\n",
        "```\n",
        "\n",
        "```\n",
        "Question 10 - \n",
        "Write a function to merge two sorted lists in sorted order -\n",
        "a = [2,4,6,8,9]\n",
        "b = [1,3,5,9]\n",
        "RESULT = [1,2,3,4,5,6,8,9,9]\n",
        "\n",
        "NO INTERNAL SORTING FUNCTIONS CAN BE USED. :)\n",
        "```"
      ],
      "metadata": {
        "id": "0ZzQh421-74T"
      }
    },
    {
      "cell_type": "code",
      "source": [],
      "metadata": {
        "id": "tEltHFxm_O-K"
      },
      "execution_count": null,
      "outputs": []
    }
  ]
}